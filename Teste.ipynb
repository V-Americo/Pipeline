{
 "cells": [
  {
   "cell_type": "code",
   "execution_count": 8,
   "id": "ad84ddb1-8c2f-4035-b852-f164f92edf3c",
   "metadata": {},
   "outputs": [
    {
     "name": "stdout",
     "output_type": "stream",
     "text": [
      "Dados carregados no banco de dados:\n",
      "   id  Nome_do_Pais       Capital  Populacao Continentes\n",
      "0   1   Switzerland          Bern    8654622      Europe\n",
      "1   2  Sierra Leone      Freetown    7976985      Africa\n",
      "2   3       Hungary      Budapest    9749763      Europe\n",
      "3   4        Taiwan        Taipei   23503349        Asia\n",
      "4   5   Ivory Coast  Yamoussoukro   26378275      Africa\n"
     ]
    }
   ],
   "source": [
    "import sqlite3\n",
    "import pandas as pd\n",
    "\n",
    "conn = sqlite3.connect(\"paises.db\")\n",
    "cur = conn.cursor()\n",
    "# Ler os dados da tabela para um DataFrame\n",
    "df_banco = pd.read_sql_query(\"SELECT * FROM paises\", conn)\n",
    "\n",
    "# Mostrar os dados carregados no banco de dados\n",
    "print(\"Dados carregados no banco de dados:\")\n",
    "print(df_banco.head())\n",
    "\n"
   ]
  },
  {
   "cell_type": "code",
   "execution_count": 9,
   "id": "fe83aa19-2d95-4941-b0bb-f30a8df849af",
   "metadata": {},
   "outputs": [
    {
     "name": "stdout",
     "output_type": "stream",
     "text": [
      "Total de países carregados: 160\n",
      "Continentes representados no banco de dados: [('Europe',), ('Africa',), ('Asia',), ('North America',), ('South America',), ('Europe, Asia',), ('Oceania',)]\n"
     ]
    }
   ],
   "source": [
    "cur.execute(\"SELECT COUNT(*) FROM paises\")\n",
    "num_paises = cur.fetchone()[0]\n",
    "print(f\"Total de países carregados: {num_paises}\")\n",
    "\n",
    "# Verificar se todos os continentes estão representados\n",
    "cur.execute(\"SELECT DISTINCT Continentes FROM paises\")\n",
    "continentes = cur.fetchall()\n",
    "print(\"Continentes representados no banco de dados:\", continentes)\n",
    "\n",
    "conn.close()\n"
   ]
  },
  {
   "cell_type": "code",
   "execution_count": null,
   "id": "8573d10e-7acc-47d1-8123-94bc59871970",
   "metadata": {},
   "outputs": [],
   "source": []
  }
 ],
 "metadata": {
  "kernelspec": {
   "display_name": "Python 3 (ipykernel)",
   "language": "python",
   "name": "python3"
  },
  "language_info": {
   "codemirror_mode": {
    "name": "ipython",
    "version": 3
   },
   "file_extension": ".py",
   "mimetype": "text/x-python",
   "name": "python",
   "nbconvert_exporter": "python",
   "pygments_lexer": "ipython3",
   "version": "3.12.3"
  }
 },
 "nbformat": 4,
 "nbformat_minor": 5
}
