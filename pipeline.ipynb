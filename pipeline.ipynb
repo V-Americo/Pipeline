{
 "cells": [
  {
   "cell_type": "code",
   "execution_count": 38,
   "id": "5a150d5b-e1d3-46bc-b312-0fc3f264a295",
   "metadata": {},
   "outputs": [],
   "source": [
    "from prefect import task, flow\n",
    "import pandas as pd\n",
    "import requests\n",
    "import sqlite3\n",
    "\n",
    "# Definir as tarefas do pipeline\n",
    "@task\n",
    "def extract_data():\n",
    "    api_restcountries = \"https://restcountries.com/v3.1/all\"\n",
    "    response = requests.get(api_restcountries)\n",
    "\n",
    "    if response.status_code == 200:\n",
    "        print(\"Importação com sucesso!\")\n",
    "        data = response.json()\n",
    "\n",
    "        df = pd.json_normalize(data)\n",
    "        return df\n",
    "    else:\n",
    "        print(\"Falha na importação!\")\n",
    "        return pd.DataFrame() \n",
    "\n",
    "@task\n",
    "def transform_data(df):\n",
    "    if not df.empty:\n",
    "        # Selecionar colunas específicas\n",
    "        df_paises = df[['name.common', 'capital', 'population', 'continents']].copy()\n",
    "\n",
    "        # Aplicar transformações nas colunas\n",
    "        df_paises['capital'] = df_paises['capital'].apply(lambda x: x[0] if isinstance(x, list) else x)\n",
    "        df_paises['capital'] = df_paises['capital'].fillna('Sem Capital')\n",
    "        df_paises['population'] = df_paises['population'].fillna(0)\n",
    "        df_paises['continents'] = df_paises['continents'].apply(lambda x: ', '.join(x) if isinstance(x, list) else x)\n",
    "        df_paises['name.common'] = df_paises['name.common'].apply(lambda x: x if isinstance(x, str) else 'Desconhecido')\n",
    "\n",
    "        # Renomear as colunas\n",
    "        df_paises = df_paises.rename(columns={'name.common': 'Nome do Pais', 'capital': 'Capital', 'population': 'Populacao', 'continents': 'Continentes'})\n",
    "\n",
    "        # Filtrar países com população superior a 1 milhão\n",
    "        df_paises = df_paises[df_paises['Populacao'] > 1_000_000]\n",
    "        print(\"Dados transformados com sucesso!\")\n",
    "        return df_paises\n",
    "    else:\n",
    "        print(\"Erro: DataFrame vazio na transformação.\")\n",
    "        return pd.DataFrame()\n",
    "\n",
    "@task\n",
    "def load_data(df):\n",
    "    if not df.empty:\n",
    "        con = sqlite3.connect('paises.db')\n",
    "        cur = con.cursor()\n",
    "\n",
    "        cur.execute(\"DROP TABLE IF EXISTS paises\")\n",
    "        con.commit()\n",
    "\n",
    "        cur.execute('''\n",
    "        CREATE TABLE IF NOT EXISTS paises (\n",
    "            id INTEGER PRIMARY KEY AUTOINCREMENT,\n",
    "            Nome_do_Pais TEXT,\n",
    "            Capital TEXT,\n",
    "            Populacao INTEGER,\n",
    "            Continentes TEXT\n",
    "        )\n",
    "        ''')\n",
    "        con.commit()\n",
    "\n",
    "        # Inserir dados no banco\n",
    "        for index, row in df.iterrows():\n",
    "            cur.execute('''\n",
    "            INSERT INTO paises (Nome_do_Pais, Capital, Populacao, Continentes)\n",
    "            VALUES (?, ?, ?, ?)''', (row['Nome do Pais'], row['Capital'], row['Populacao'], row['Continentes']))\n",
    "        \n",
    "        con.commit()\n",
    "        con.close()\n",
    "        print(\"Dados inseridos com sucesso no banco de dados!\")\n",
    "    else:\n",
    "        print(\"Erro: DataFrame vazio na carga de dados.\")\n",
    "\n",
    "# Definir o Flow do Prefect para orquestrar as tarefas\n",
    "@flow\n",
    "def etl_pipeline():\n",
    "    data = extract_data()\n",
    "    cleaned_data = transform_data(data)\n",
    "    load_data(cleaned_data)\n",
    "\n"
   ]
  },
  {
   "cell_type": "code",
   "execution_count": 39,
   "id": "d7543917-e85a-4961-a8c1-da5e0d0320cc",
   "metadata": {},
   "outputs": [
    {
     "data": {
      "text/html": [
       "<pre style=\"white-space:pre;overflow-x:auto;line-height:normal;font-family:Menlo,'DejaVu Sans Mono',consolas,'Courier New',monospace\">20:09:24.793 | <span style=\"color: #008080; text-decoration-color: #008080\">INFO</span>    | prefect.engine - Created flow run<span style=\"color: #800080; text-decoration-color: #800080\"> 'poised-beetle'</span> for flow<span style=\"color: #800080; text-decoration-color: #800080; font-weight: bold\"> 'etl-pipeline'</span>\n",
       "</pre>\n"
      ],
      "text/plain": [
       "20:09:24.793 | \u001b[36mINFO\u001b[0m    | prefect.engine - Created flow run\u001b[35m 'poised-beetle'\u001b[0m for flow\u001b[1;35m 'etl-pipeline'\u001b[0m\n"
      ]
     },
     "metadata": {},
     "output_type": "display_data"
    },
    {
     "data": {
      "text/html": [
       "<pre style=\"white-space:pre;overflow-x:auto;line-height:normal;font-family:Menlo,'DejaVu Sans Mono',consolas,'Courier New',monospace\">20:09:25.877 | <span style=\"color: #008080; text-decoration-color: #008080\">INFO</span>    | Task run 'extract_data-0ba' - Created task run 'extract_data-0ba' for task 'extract_data'\n",
       "</pre>\n"
      ],
      "text/plain": [
       "20:09:25.877 | \u001b[36mINFO\u001b[0m    | Task run 'extract_data-0ba' - Created task run 'extract_data-0ba' for task 'extract_data'\n"
      ]
     },
     "metadata": {},
     "output_type": "display_data"
    },
    {
     "name": "stdout",
     "output_type": "stream",
     "text": [
      "Importação com sucesso!\n"
     ]
    },
    {
     "data": {
      "text/html": [
       "<pre style=\"white-space:pre;overflow-x:auto;line-height:normal;font-family:Menlo,'DejaVu Sans Mono',consolas,'Courier New',monospace\">20:09:27.815 | <span style=\"color: #008080; text-decoration-color: #008080\">INFO</span>    | Task run 'extract_data-0ba' - Finished in state <span style=\"color: #008000; text-decoration-color: #008000\">Completed</span>()\n",
       "</pre>\n"
      ],
      "text/plain": [
       "20:09:27.815 | \u001b[36mINFO\u001b[0m    | Task run 'extract_data-0ba' - Finished in state \u001b[32mCompleted\u001b[0m()\n"
      ]
     },
     "metadata": {},
     "output_type": "display_data"
    },
    {
     "data": {
      "text/html": [
       "<pre style=\"white-space:pre;overflow-x:auto;line-height:normal;font-family:Menlo,'DejaVu Sans Mono',consolas,'Courier New',monospace\">20:09:28.899 | <span style=\"color: #008080; text-decoration-color: #008080\">INFO</span>    | Task run 'transform_data-c05' - Created task run 'transform_data-c05' for task 'transform_data'\n",
       "</pre>\n"
      ],
      "text/plain": [
       "20:09:28.899 | \u001b[36mINFO\u001b[0m    | Task run 'transform_data-c05' - Created task run 'transform_data-c05' for task 'transform_data'\n"
      ]
     },
     "metadata": {},
     "output_type": "display_data"
    },
    {
     "name": "stdout",
     "output_type": "stream",
     "text": [
      "Dados transformados com sucesso!\n"
     ]
    },
    {
     "data": {
      "text/html": [
       "<pre style=\"white-space:pre;overflow-x:auto;line-height:normal;font-family:Menlo,'DejaVu Sans Mono',consolas,'Courier New',monospace\">20:09:29.166 | <span style=\"color: #008080; text-decoration-color: #008080\">INFO</span>    | Task run 'transform_data-c05' - Finished in state <span style=\"color: #008000; text-decoration-color: #008000\">Completed</span>()\n",
       "</pre>\n"
      ],
      "text/plain": [
       "20:09:29.166 | \u001b[36mINFO\u001b[0m    | Task run 'transform_data-c05' - Finished in state \u001b[32mCompleted\u001b[0m()\n"
      ]
     },
     "metadata": {},
     "output_type": "display_data"
    },
    {
     "data": {
      "text/html": [
       "<pre style=\"white-space:pre;overflow-x:auto;line-height:normal;font-family:Menlo,'DejaVu Sans Mono',consolas,'Courier New',monospace\">20:09:30.416 | <span style=\"color: #008080; text-decoration-color: #008080\">INFO</span>    | Task run 'load_data-1d3' - Created task run 'load_data-1d3' for task 'load_data'\n",
       "</pre>\n"
      ],
      "text/plain": [
       "20:09:30.416 | \u001b[36mINFO\u001b[0m    | Task run 'load_data-1d3' - Created task run 'load_data-1d3' for task 'load_data'\n"
      ]
     },
     "metadata": {},
     "output_type": "display_data"
    },
    {
     "name": "stdout",
     "output_type": "stream",
     "text": [
      "Dados inseridos com sucesso no banco de dados!\n"
     ]
    },
    {
     "data": {
      "text/html": [
       "<pre style=\"white-space:pre;overflow-x:auto;line-height:normal;font-family:Menlo,'DejaVu Sans Mono',consolas,'Courier New',monospace\">20:09:30.494 | <span style=\"color: #008080; text-decoration-color: #008080\">INFO</span>    | Task run 'load_data-1d3' - Finished in state <span style=\"color: #008000; text-decoration-color: #008000\">Completed</span>()\n",
       "</pre>\n"
      ],
      "text/plain": [
       "20:09:30.494 | \u001b[36mINFO\u001b[0m    | Task run 'load_data-1d3' - Finished in state \u001b[32mCompleted\u001b[0m()\n"
      ]
     },
     "metadata": {},
     "output_type": "display_data"
    },
    {
     "data": {
      "text/html": [
       "<pre style=\"white-space:pre;overflow-x:auto;line-height:normal;font-family:Menlo,'DejaVu Sans Mono',consolas,'Courier New',monospace\">20:09:30.795 | <span style=\"color: #008080; text-decoration-color: #008080\">INFO</span>    | Flow run<span style=\"color: #800080; text-decoration-color: #800080\"> 'poised-beetle'</span> - Finished in state <span style=\"color: #008000; text-decoration-color: #008000\">Completed</span>()\n",
       "</pre>\n"
      ],
      "text/plain": [
       "20:09:30.795 | \u001b[36mINFO\u001b[0m    | Flow run\u001b[35m 'poised-beetle'\u001b[0m - Finished in state \u001b[32mCompleted\u001b[0m()\n"
      ]
     },
     "metadata": {},
     "output_type": "display_data"
    }
   ],
   "source": [
    "# Executar o fluxo manualmente para verificar se funciona corretamente\n",
    "etl_pipeline()"
   ]
  },
  {
   "cell_type": "code",
   "execution_count": null,
   "id": "49b084d0-7aa6-460e-85d4-48b141e7caf4",
   "metadata": {},
   "outputs": [],
   "source": []
  }
 ],
 "metadata": {
  "kernelspec": {
   "display_name": "Python 3 (ipykernel)",
   "language": "python",
   "name": "python3"
  },
  "language_info": {
   "codemirror_mode": {
    "name": "ipython",
    "version": 3
   },
   "file_extension": ".py",
   "mimetype": "text/x-python",
   "name": "python",
   "nbconvert_exporter": "python",
   "pygments_lexer": "ipython3",
   "version": "3.12.3"
  }
 },
 "nbformat": 4,
 "nbformat_minor": 5
}
